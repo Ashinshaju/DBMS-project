{
 "cells": [
  {
   "cell_type": "code",
   "execution_count": 2,
   "id": "1e7611c7-afcf-4a30-adf7-811bff8ebb20",
   "metadata": {},
   "outputs": [
    {
     "name": "stdin",
     "output_type": "stream",
     "text": [
      "Enter your name:  Ashin\n"
     ]
    },
    {
     "name": "stdout",
     "output_type": "stream",
     "text": [
      "\n",
      "Welcome Ashin! Let's begin the quiz.\n",
      "\n",
      "What is the capital of France?\n",
      "1. London\n",
      "2. Paris\n",
      "3. Berlin\n",
      "4. Madrid\n"
     ]
    },
    {
     "name": "stdin",
     "output_type": "stream",
     "text": [
      "Your answer (1-4):  2\n"
     ]
    },
    {
     "name": "stdout",
     "output_type": "stream",
     "text": [
      "Correct!\n",
      "\n",
      "Which planet is known as the Red Planet?\n",
      "1. Venus\n",
      "2. Mars\n",
      "3. Jupiter\n",
      "4. Saturn\n"
     ]
    },
    {
     "name": "stdin",
     "output_type": "stream",
     "text": [
      "Your answer (1-4):  1\n"
     ]
    },
    {
     "name": "stdout",
     "output_type": "stream",
     "text": [
      "Wrong! The correct answer was Mars\n",
      "\n",
      "What is 2 + 2?\n",
      "1. 3\n",
      "2. 4\n",
      "3. 5\n",
      "4. 6\n"
     ]
    },
    {
     "name": "stdin",
     "output_type": "stream",
     "text": [
      "Your answer (1-4):  3\n"
     ]
    },
    {
     "name": "stdout",
     "output_type": "stream",
     "text": [
      "Wrong! The correct answer was 4\n",
      "\n",
      "Ashin, your final score is 1/3\n"
     ]
    },
    {
     "data": {
      "image/png": "[encoded data removed]",
      "text/plain": [
       "<Figure size 640x480 with 1 Axes>"
      ]
     },
     "metadata": {},
     "output_type": "display_data"
    },
    {
     "name": "stdout",
     "output_type": "stream",
     "text": [
      "Score saved to quiz_score.csv\n"
     ]
    }
   ],
   "source": [
    "import pandas as pd\n",
    "import matplotlib.pyplot as plt\n",
    "\n",
    "# Quiz questions (list of dictionaries)\n",
    "questions = [\n",
    "    {\n",
    "        \"question\": \"What is the capital of France?\",\n",
    "        \"options\": [\"London\", \"Paris\", \"Berlin\", \"Madrid\"],\n",
    "        \"answer\": \"Paris\"\n",
    "    },\n",
    "    {\n",
    "        \"question\": \"Which planet is known as the Red Planet?\",\n",
    "        \"options\": [\"Venus\", \"Mars\", \"Jupiter\", \"Saturn\"],\n",
    "        \"answer\": \"Mars\"\n",
    "    },\n",
    "    {\n",
    "        \"question\": \"What is 2 + 2?\",\n",
    "        \"options\": [\"3\", \"4\", \"5\", \"6\"],\n",
    "        \"answer\": \"4\"\n",
    "    }\n",
    "]\n",
    "\n",
    "# Dictionary to store player scores\n",
    "player_scores = {}\n",
    "\n",
    "# Get player name\n",
    "player_name = input(\"Enter your name: \")\n",
    "player_scores[player_name] = 0  # Initialize score\n",
    "\n",
    "# Start quiz\n",
    "print(f\"\\nWelcome {player_name}! Let's begin the quiz.\\n\")\n",
    "\n",
    "for q in questions:\n",
    "    print(q[\"question\"])\n",
    "    for i, option in enumerate(q[\"options\"], 1):\n",
    "        print(f\"{i}. {option}\")\n",
    "    \n",
    "    # Get and validate answer\n",
    "    while True:\n",
    "        try:\n",
    "            answer = int(input(\"Your answer (1-4): \"))\n",
    "            if 1 <= answer <= 4:\n",
    "                break\n",
    "            print(\"Please enter a number 1-4\")\n",
    "        except ValueError:\n",
    "            print(\"Please enter a number\")\n",
    "    \n",
    "    # Check answer\n",
    "    if q[\"options\"][answer-1] == q[\"answer\"]:\n",
    "        print(\"Correct!\\n\")\n",
    "        player_scores[player_name] += 1\n",
    "    else:\n",
    "        print(f\"Wrong! The correct answer was {q['answer']}\\n\")\n",
    "\n",
    "# Show final score\n",
    "print(f\"{player_name}, your final score is {player_scores[player_name]}/{len(questions)}\")\n",
    "\n",
    "# Create and show bar chart\n",
    "df = pd.DataFrame(list(player_scores.items()), columns=[\"Player\", \"Score\"])\n",
    "df.plot(kind='bar', x='Player', y='Score', legend=False)\n",
    "plt.title(\"Quiz Results\")\n",
    "plt.ylabel(\"Score\")\n",
    "plt.tight_layout()\n",
    "plt.show()\n",
    "\n",
    "# Export to CSV (optional)\n",
    "df.to_csv(\"quiz_score.csv\", index=False)\n",
    "print(\"Score saved to quiz_score.csv\")  "
   ]
  },
  {
   "cell_type": "code",
   "execution_count": null,
   "id": "7711168e-1a5b-4bec-ba78-96a451938f13",
   "metadata": {},
   "outputs": [],
   "source": [
    "#Made By:\n",
    "#Shaun John-2311188\n",
    "#Ashin Shaju-2311120\n",
    "#N Nachiappan"
   ]
  }
 ],
 "metadata": {
  "kernelspec": {
   "display_name": "Python [conda env:base] *",
   "language": "python",
   "name": "conda-base-py"
  },
  "language_info": {
   "codemirror_mode": {
    "name": "ipython",
    "version": 3
   },
   "file_extension": ".py",
   "mimetype": "text/x-python",
   "name": "python",
   "nbconvert_exporter": "python",
   "pygments_lexer": "ipython3",
   "version": "3.12.7"
  }
 },
 "nbformat": 4,
 "nbformat_minor": 5
}
